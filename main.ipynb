{
  "nbformat": 4,
  "nbformat_minor": 0,
  "metadata": {
    "orig_nbformat": 4,
    "language_info": {
      "name": "python"
    },
    "colab": {
      "name": "main.ipynb",
      "provenance": []
    }
  },
  "cells": [
    {
      "cell_type": "code",
      "metadata": {
        "id": "Wgr9stVlVZtS"
      },
      "source": [
        "print(1231231231231)"
      ],
      "execution_count": null,
      "outputs": []
    }
  ]
}